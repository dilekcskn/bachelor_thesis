import numpy as np
from sklearn.tree import DecisionTreeClassifier
from collections import Counter

# Parametre (vi kan ændre dem)
D_max = 3
alpha = 0.1
N_min = 4

# CART træning
cart = DecisionTreeClassifier(max_depth=D_max, min_samples_leaf=N_min, random_state=42)
cart.fit(X_train, y_train)

# 1. L_sum = fejl på træningsdata
y_pred_train = cart.predict(X_train)
L_sum = np.sum(y_pred_train != y_train)

# 2. L_hat = antal rigtige hvis man altid vælger majoritetsklassen
majority_class = Counter(y_train).most_common(1)[0][0]
L_hat = np.sum(y_train == majority_class)

# 3. d = antal interne knuder i CART
tree = cart.tree_
is_leaf = (tree.children_left == -1) & (tree.children_right == -1)
d = np.sum(~is_leaf)

# 4. Objektivværdi
obj_cart = L_sum / L_hat + alpha * d
