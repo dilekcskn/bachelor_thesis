{
 "cells": [
  {
   "cell_type": "code",
   "execution_count": null,
   "id": "c222d404-4398-49d8-bc35-d1c21855b056",
   "metadata": {},
   "outputs": [],
   "source": [
    "import pandas as pd\n",
    "import numpy as np\n",
    "\n",
    "# Indlæs datasættet\n",
    "url_heart_disease = \"https://archive.ics.uci.edu/ml/machine-learning-databases/heart-disease/processed.cleveland.data\"\n",
    "col_names_heart = [\"age\", \"sex\", \"cp\", \"trestbps\", \"chol\", \"fbs\", \"restecg\", \n",
    "                   \"thalach\", \"exang\", \"oldpeak\", \"slope\", \"ca\", \"thal\", \"target\"]\n",
    "\n",
    "heart_df = pd.read_csv(url_heart_disease, names=col_names_heart, na_values=\"?\")\n",
    "\n",
    "# Fjern rækker med manglende værdier\n",
    "heart_df.dropna(inplace=True)\n",
    "\n",
    "# Tag et sample på fx 50 rækker\n",
    "heart_df0 = heart_df.sample(n=50, random_state=42)\n",
    "\n",
    "# Drop nogle kolonner (fx de mere komplekse)\n",
    "heart_df1 = heart_df0.drop(columns=[\"ca\", \"thal\", \"slope\"])\n",
    "\n",
    "# Kategoriske variable som skal konverteres\n",
    "binary_mappings = {\n",
    "    \"sex\": {1: 1, 0: 0},\n",
    "    \"fbs\": {1: 1, 0: 0},\n",
    "    \"exang\": {1: 1, 0: 0},\n",
    "    \"restecg\": {0: 0, 1: 1, 2: 2}\n",
    "}\n",
    "\n",
    "for col, mapping in binary_mappings.items():\n",
    "    heart_df1[col] = heart_df1[col].replace(mapping)\n",
    "\n",
    "# Binning af target til 4 klasser \n",
    "heart_df1[\"target\"] = pd.cut(heart_df1[\"target\"],\n",
    "                             bins=[-1, 0, 1, 2, 4],\n",
    "                             labels=[0, 1, 2, 3],\n",
    "                             include_lowest=True).astype(int)\n",
    "\n",
    "# Del dataene op i X og Y\n",
    "X_heart = heart_df1.drop(columns=[\"target\"])\n",
    "Y_heart = heart_df1[\"target\"]\n",
    "\n",
    "# Konverter til NumPy arrays\n",
    "X_heart_np = X_heart.to_numpy()\n",
    "Y_heart_np = Y_heart.to_numpy()\n",
    "\n",
    "# Klasselabels \n",
    "class_labels, Y_heart_np = np.unique(heart_df1['target'], return_inverse=True)\n",
    "\n",
    "# Tjek data\n",
    "print(heart_df1.head())\n"
   ]
  }
 ],
 "metadata": {
  "kernelspec": {
   "display_name": "Python [conda env:base] *",
   "language": "python",
   "name": "conda-base-py"
  },
  "language_info": {
   "codemirror_mode": {
    "name": "ipython",
    "version": 3
   },
   "file_extension": ".py",
   "mimetype": "text/x-python",
   "name": "python",
   "nbconvert_exporter": "python",
   "pygments_lexer": "ipython3",
   "version": "3.12.7"
  }
 },
 "nbformat": 4,
 "nbformat_minor": 5
}
