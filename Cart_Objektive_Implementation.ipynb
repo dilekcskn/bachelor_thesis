{
 "cells": [
  {
   "cell_type": "code",
   "execution_count": null,
   "id": "48b8a1cd-1dd9-4001-a50c-d2731acf767c",
   "metadata": {},
   "outputs": [],
   "source": [
    "import numpy as np\n",
    "from sklearn.tree import DecisionTreeClassifier\n",
    "from collections import Counter\n",
    "\n",
    "# Parametre (vi kan ændre dem)\n",
    "D_max = 5\n",
    "alpha = 0.1\n",
    "N_min = 4\n",
    "\n",
    "# CART træning\n",
    "cart = DecisionTreeClassifier(max_depth=D_max, min_samples_leaf=N_min, random_state=42)\n",
    "cart.fit(X_train, y_train)\n",
    "\n",
    "# 1. L_sum = fejl på træningsdata\n",
    "y_pred_train = cart.predict(X_train)\n",
    "L_sum = np.sum(y_pred_train != y_train)\n",
    "\n",
    "# 2. L_hat = antal rigtige hvis man altid vælger majoritetsklassen\n",
    "majority_class = Counter(y_train).most_common(1)[0][0]\n",
    "L_hat = np.sum(y_train == majority_class)\n",
    "\n",
    "# 3. d = antal interne knuder i CART\n",
    "tree = cart.tree_\n",
    "is_leaf = (tree.children_left == -1) & (tree.children_right == -1)\n",
    "d = np.sum(~is_leaf)\n",
    "\n",
    "# 4. Objektivværdi\n",
    "obj_cart = L_sum / L_hat + alpha * d\n"
   ]
  }
 ],
 "metadata": {
  "kernelspec": {
   "display_name": "Python [conda env:base] *",
   "language": "python",
   "name": "conda-base-py"
  },
  "language_info": {
   "codemirror_mode": {
    "name": "ipython",
    "version": 3
   },
   "file_extension": ".py",
   "mimetype": "text/x-python",
   "name": "python",
   "nbconvert_exporter": "python",
   "pygments_lexer": "ipython3",
   "version": "3.12.7"
  }
 },
 "nbformat": 4,
 "nbformat_minor": 5
}
